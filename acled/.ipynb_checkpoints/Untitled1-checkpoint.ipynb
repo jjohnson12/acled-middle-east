{
 "cells": [
  {
   "cell_type": "code",
   "execution_count": 2,
   "metadata": {},
   "outputs": [
    {
     "ename": "KeyError",
     "evalue": "'MiddleEast_2015-2020_Feb29.xlsx'",
     "output_type": "error",
     "traceback": [
      "\u001b[0;31m---------------------------------------------------------------------------\u001b[0m",
      "\u001b[0;31mKeyError\u001b[0m                                  Traceback (most recent call last)",
      "\u001b[0;32m<ipython-input-2-0c2ae9a06185>\u001b[0m in \u001b[0;36m<module>\u001b[0;34m\u001b[0m\n\u001b[1;32m      1\u001b[0m \u001b[0;32mimport\u001b[0m \u001b[0mgmaps\u001b[0m\u001b[0;34m.\u001b[0m\u001b[0mdatasets\u001b[0m\u001b[0;34m\u001b[0m\u001b[0;34m\u001b[0m\u001b[0m\n\u001b[1;32m      2\u001b[0m \u001b[0;34m\u001b[0m\u001b[0m\n\u001b[0;32m----> 3\u001b[0;31m \u001b[0mdf\u001b[0m \u001b[0;34m=\u001b[0m \u001b[0mgmaps\u001b[0m\u001b[0;34m.\u001b[0m\u001b[0mdatasets\u001b[0m\u001b[0;34m.\u001b[0m\u001b[0mload_dataset_as_df\u001b[0m\u001b[0;34m(\u001b[0m\u001b[0;34m'MiddleEast_2015-2020_Feb29.xlsx'\u001b[0m\u001b[0;34m)\u001b[0m\u001b[0;34m\u001b[0m\u001b[0;34m\u001b[0m\u001b[0m\n\u001b[0m\u001b[1;32m      4\u001b[0m \u001b[0mdf\u001b[0m\u001b[0;34m.\u001b[0m\u001b[0mhead\u001b[0m\u001b[0;34m(\u001b[0m\u001b[0;34m)\u001b[0m\u001b[0;34m\u001b[0m\u001b[0;34m\u001b[0m\u001b[0m\n",
      "\u001b[0;32m~/opt/anaconda3/lib/python3.7/site-packages/gmaps/datasets/datasets.py\u001b[0m in \u001b[0;36mload_dataset_as_df\u001b[0;34m(dataset_name)\u001b[0m\n\u001b[1;32m    133\u001b[0m     \"\"\"\n\u001b[1;32m    134\u001b[0m     \u001b[0;32mimport\u001b[0m \u001b[0mpandas\u001b[0m \u001b[0;32mas\u001b[0m \u001b[0mpd\u001b[0m\u001b[0;34m\u001b[0m\u001b[0;34m\u001b[0m\u001b[0m\n\u001b[0;32m--> 135\u001b[0;31m     \u001b[0mdata\u001b[0m \u001b[0;34m=\u001b[0m \u001b[0mload_dataset\u001b[0m\u001b[0;34m(\u001b[0m\u001b[0mdataset_name\u001b[0m\u001b[0;34m)\u001b[0m\u001b[0;34m\u001b[0m\u001b[0;34m\u001b[0m\u001b[0m\n\u001b[0m\u001b[1;32m    136\u001b[0m     \u001b[0mheaders\u001b[0m \u001b[0;34m=\u001b[0m \u001b[0mdataset_metadata\u001b[0m\u001b[0;34m(\u001b[0m\u001b[0mdataset_name\u001b[0m\u001b[0;34m)\u001b[0m\u001b[0;34m[\u001b[0m\u001b[0;34m\"headers\"\u001b[0m\u001b[0;34m]\u001b[0m\u001b[0;34m\u001b[0m\u001b[0;34m\u001b[0m\u001b[0m\n\u001b[1;32m    137\u001b[0m     \u001b[0;32mreturn\u001b[0m \u001b[0mpd\u001b[0m\u001b[0;34m.\u001b[0m\u001b[0mDataFrame\u001b[0m\u001b[0;34m(\u001b[0m\u001b[0mdata\u001b[0m\u001b[0;34m,\u001b[0m \u001b[0mcolumns\u001b[0m\u001b[0;34m=\u001b[0m\u001b[0mheaders\u001b[0m\u001b[0;34m)\u001b[0m\u001b[0;34m\u001b[0m\u001b[0;34m\u001b[0m\u001b[0m\n",
      "\u001b[0;32m~/opt/anaconda3/lib/python3.7/site-packages/gmaps/datasets/datasets.py\u001b[0m in \u001b[0;36mload_dataset\u001b[0;34m(dataset_name)\u001b[0m\n\u001b[1;32m    120\u001b[0m     \u001b[0mFetch\u001b[0m \u001b[0ma\u001b[0m \u001b[0mdataset\u001b[0m\u001b[0;34m,\u001b[0m \u001b[0mreturning\u001b[0m \u001b[0man\u001b[0m \u001b[0marray\u001b[0m \u001b[0mof\u001b[0m \u001b[0mtuples\u001b[0m\u001b[0;34m.\u001b[0m\u001b[0;34m\u001b[0m\u001b[0;34m\u001b[0m\u001b[0m\n\u001b[1;32m    121\u001b[0m     \"\"\"\n\u001b[0;32m--> 122\u001b[0;31m     \u001b[0murl\u001b[0m \u001b[0;34m=\u001b[0m \u001b[0mMETADATA\u001b[0m\u001b[0;34m[\u001b[0m\u001b[0mdataset_name\u001b[0m\u001b[0;34m]\u001b[0m\u001b[0;34m[\u001b[0m\u001b[0;34m\"url\"\u001b[0m\u001b[0;34m]\u001b[0m\u001b[0;34m\u001b[0m\u001b[0;34m\u001b[0m\u001b[0m\n\u001b[0m\u001b[1;32m    123\u001b[0m     \u001b[0mcolumn_types\u001b[0m \u001b[0;34m=\u001b[0m \u001b[0mMETADATA\u001b[0m\u001b[0;34m[\u001b[0m\u001b[0mdataset_name\u001b[0m\u001b[0;34m]\u001b[0m\u001b[0;34m[\u001b[0m\u001b[0;34m\"types\"\u001b[0m\u001b[0;34m]\u001b[0m\u001b[0;34m\u001b[0m\u001b[0;34m\u001b[0m\u001b[0m\n\u001b[1;32m    124\u001b[0m     \u001b[0mf\u001b[0m \u001b[0;34m=\u001b[0m \u001b[0murlopen\u001b[0m\u001b[0;34m(\u001b[0m\u001b[0murl\u001b[0m\u001b[0;34m)\u001b[0m\u001b[0;34m\u001b[0m\u001b[0;34m\u001b[0m\u001b[0m\n",
      "\u001b[0;31mKeyError\u001b[0m: 'MiddleEast_2015-2020_Feb29.xlsx'"
     ]
    }
   ],
   "source": [
    "import gmaps.datasets\n",
    "\n",
    "df = gmaps.datasets.load_dataset_as_df('MiddleEast_2015-2020_Feb29.xlsx')\n",
    "df.head()"
   ]
  },
  {
   "cell_type": "code",
   "execution_count": null,
   "metadata": {},
   "outputs": [],
   "source": [
    "from IPython.display import display\n",
    "import ipywidgets as widgets\n",
    "\n",
    "import gmaps\n",
    "gmaps.configure(api_key='AIza...')\n",
    "\n",
    "\n",
    "class AcledExplorer(object):\n",
    "    \"\"\"\n",
    "    Jupyter widget for exploring the ACLED dataset.\n",
    "\n",
    "    The user uses the slider to choose a year. This renders\n",
    "    a heatmap of civilian victims in that year.\n",
    "    \"\"\"\n",
    "\n",
    "    def __init__(self, df):\n",
    "        self._df = df\n",
    "        self._heatmap = None\n",
    "        self._slider = None\n",
    "        initial_year = min(self._df['year'])\n",
    "\n",
    "        title_widget = widgets.HTML(\n",
    "            '<h3>Civilian casualties in Africa, by year</h3>'\n",
    "            '<h4>Data from <a href=\"https://www.acleddata.com/\">ACLED project</a></h4>'\n",
    "        )\n",
    "\n",
    "        map_figure = self._render_map(initial_year)\n",
    "        controls = self._render_controls(initial_year)\n",
    "        self._container = widgets.VBox([title_widget, controls, map_figure])\n",
    "\n",
    "    def render(self):\n",
    "        display(self._container)\n",
    "\n",
    "    def _on_year_change(self, change):\n",
    "        year = self._slider.value\n",
    "        self._heatmap.locations = self._locations_for_year(year)\n",
    "        self._total_box.value = self._total_casualties_text_for_year(year)\n",
    "        return self._container\n",
    "\n",
    "    def _render_map(self, initial_year):\n",
    "        fig = gmaps.figure(map_type='HYBRID')\n",
    "        self._heatmap = gmaps.heatmap_layer(\n",
    "            self._locations_for_year(initial_year),\n",
    "            max_intensity=100,\n",
    "            point_radius=8\n",
    "        )\n",
    "        fig.add_layer(self._heatmap)\n",
    "        return fig\n",
    "\n",
    "    def _render_controls(self, initial_year):\n",
    "        self._slider = widgets.IntSlider(\n",
    "            value=initial_year,\n",
    "            min=min(self._df['year']),\n",
    "            max=max(self._df['year']),\n",
    "            description='Year',\n",
    "            continuous_update=False\n",
    "        )\n",
    "        self._total_box = widgets.Label(\n",
    "            value=self._total_casualties_text_for_year(initial_year)\n",
    "        )\n",
    "        self._slider.observe(self._on_year_change, names='value')\n",
    "        controls = widgets.HBox(\n",
    "            [self._slider, self._total_box],\n",
    "            layout={'justify_content': 'space-between'}\n",
    "        )\n",
    "        return controls\n",
    "\n",
    "    def _locations_for_year(self, year):\n",
    "        return self._df[self._df['year'] == year][['latitude', 'longitude']]\n",
    "\n",
    "    def _total_casualties_for_year(self, year):\n",
    "        return int(self._df[self._df['year'] == year]['year'].count())\n",
    "\n",
    "    def _total_casualties_text_for_year(self, year):\n",
    "        return '{} civilian casualties'.format(self._total_casualties_for_year(year))\n",
    "\n",
    "\n",
    "AcledExplorer(df).render()"
   ]
  }
 ],
 "metadata": {
  "kernelspec": {
   "display_name": "Python 3",
   "language": "python",
   "name": "python3"
  },
  "language_info": {
   "codemirror_mode": {
    "name": "ipython",
    "version": 3
   },
   "file_extension": ".py",
   "mimetype": "text/x-python",
   "name": "python",
   "nbconvert_exporter": "python",
   "pygments_lexer": "ipython3",
   "version": "3.7.4"
  }
 },
 "nbformat": 4,
 "nbformat_minor": 2
}
